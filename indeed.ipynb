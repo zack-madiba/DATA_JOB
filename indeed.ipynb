{
 "cells": [
  {
   "cell_type": "code",
   "execution_count": 10,
   "id": "assigned-denver",
   "metadata": {},
   "outputs": [
    {
     "ename": "RuntimeError",
     "evalue": "generator raised StopIteration",
     "output_type": "error",
     "traceback": [
      "\u001b[0;31m---------------------------------------------------------------------------\u001b[0m",
      "\u001b[0;31mStopIteration\u001b[0m                             Traceback (most recent call last)",
      "\u001b[0;32m~/anaconda3/lib/python3.7/site-packages/feedparser.py\u001b[0m in \u001b[0;36m_gen_georss_coords\u001b[0;34m(value, swap, dims)\u001b[0m\n\u001b[1;32m   3765\u001b[0m     \u001b[0;32mwhile\u001b[0m \u001b[0;32mTrue\u001b[0m\u001b[0;34m:\u001b[0m\u001b[0;34m\u001b[0m\u001b[0;34m\u001b[0m\u001b[0m\n\u001b[0;32m-> 3766\u001b[0;31m         \u001b[0mt\u001b[0m \u001b[0;34m=\u001b[0m \u001b[0;34m[\u001b[0m\u001b[0mnxt\u001b[0m\u001b[0;34m(\u001b[0m\u001b[0;34m)\u001b[0m\u001b[0;34m,\u001b[0m \u001b[0mnxt\u001b[0m\u001b[0;34m(\u001b[0m\u001b[0;34m)\u001b[0m\u001b[0;34m]\u001b[0m\u001b[0;34m[\u001b[0m\u001b[0;34m:\u001b[0m\u001b[0;34m:\u001b[0m\u001b[0mswap\u001b[0m \u001b[0;32mand\u001b[0m \u001b[0;34m-\u001b[0m\u001b[0;36m1\u001b[0m \u001b[0;32mor\u001b[0m \u001b[0;36m1\u001b[0m\u001b[0;34m]\u001b[0m\u001b[0;34m\u001b[0m\u001b[0;34m\u001b[0m\u001b[0m\n\u001b[0m\u001b[1;32m   3767\u001b[0m         \u001b[0;32mif\u001b[0m \u001b[0mdims\u001b[0m \u001b[0;34m==\u001b[0m \u001b[0;36m3\u001b[0m\u001b[0;34m:\u001b[0m\u001b[0;34m\u001b[0m\u001b[0;34m\u001b[0m\u001b[0m\n",
      "\u001b[0;31mStopIteration\u001b[0m: ",
      "\nThe above exception was the direct cause of the following exception:\n",
      "\u001b[0;31mRuntimeError\u001b[0m                              Traceback (most recent call last)",
      "\u001b[0;32m<ipython-input-10-8748d2e12e05>\u001b[0m in \u001b[0;36m<module>\u001b[0;34m\u001b[0m\n\u001b[1;32m     55\u001b[0m             \u001b[0mprint\u001b[0m\u001b[0;34m(\u001b[0m\u001b[0;34m\"erreor iteration\"\u001b[0m\u001b[0;34m)\u001b[0m\u001b[0;34m\u001b[0m\u001b[0;34m\u001b[0m\u001b[0m\n\u001b[1;32m     56\u001b[0m \u001b[0;34m\u001b[0m\u001b[0m\n\u001b[0;32m---> 57\u001b[0;31m \u001b[0mindeed\u001b[0m\u001b[0;34m(\u001b[0m\u001b[0;34m)\u001b[0m\u001b[0;34m\u001b[0m\u001b[0;34m\u001b[0m\u001b[0m\n\u001b[0m",
      "\u001b[0;32m<ipython-input-10-8748d2e12e05>\u001b[0m in \u001b[0;36mindeed\u001b[0;34m()\u001b[0m\n\u001b[1;32m     30\u001b[0m     \u001b[0;32mfor\u001b[0m \u001b[0mi\u001b[0m \u001b[0;32min\u001b[0m \u001b[0mrss\u001b[0m\u001b[0;34m:\u001b[0m\u001b[0;34m\u001b[0m\u001b[0;34m\u001b[0m\u001b[0m\n\u001b[1;32m     31\u001b[0m         \u001b[0;32mtry\u001b[0m\u001b[0;34m:\u001b[0m\u001b[0;34m\u001b[0m\u001b[0;34m\u001b[0m\u001b[0m\n\u001b[0;32m---> 32\u001b[0;31m             \u001b[0md\u001b[0m \u001b[0;34m=\u001b[0m \u001b[0mfeedparser\u001b[0m\u001b[0;34m.\u001b[0m\u001b[0mparse\u001b[0m\u001b[0;34m(\u001b[0m\u001b[0;34m'https://fr.indeed.com/rss?q=data&l=france'\u001b[0m\u001b[0;34m)\u001b[0m\u001b[0;34m\u001b[0m\u001b[0;34m\u001b[0m\u001b[0m\n\u001b[0m\u001b[1;32m     33\u001b[0m             \u001b[0;32mfor\u001b[0m \u001b[0mrows\u001b[0m \u001b[0;32min\u001b[0m \u001b[0mrange\u001b[0m\u001b[0;34m(\u001b[0m\u001b[0mlen\u001b[0m\u001b[0;34m(\u001b[0m\u001b[0md\u001b[0m\u001b[0;34m.\u001b[0m\u001b[0mentries\u001b[0m\u001b[0;34m)\u001b[0m\u001b[0;34m)\u001b[0m\u001b[0;34m:\u001b[0m\u001b[0;34m\u001b[0m\u001b[0;34m\u001b[0m\u001b[0m\n\u001b[1;32m     34\u001b[0m                 \u001b[0mtitre\u001b[0m \u001b[0;34m=\u001b[0m \u001b[0md\u001b[0m\u001b[0;34m.\u001b[0m\u001b[0mentries\u001b[0m\u001b[0;34m[\u001b[0m\u001b[0mrows\u001b[0m\u001b[0;34m]\u001b[0m\u001b[0;34m.\u001b[0m\u001b[0mtitle\u001b[0m\u001b[0;34m\u001b[0m\u001b[0;34m\u001b[0m\u001b[0m\n",
      "\u001b[0;32m~/anaconda3/lib/python3.7/site-packages/feedparser.py\u001b[0m in \u001b[0;36mparse\u001b[0;34m(url_file_stream_or_string, etag, modified, agent, referrer, handlers, request_headers, response_headers)\u001b[0m\n\u001b[1;32m   3954\u001b[0m         \u001b[0msource\u001b[0m\u001b[0;34m.\u001b[0m\u001b[0msetByteStream\u001b[0m\u001b[0;34m(\u001b[0m\u001b[0m_StringIO\u001b[0m\u001b[0;34m(\u001b[0m\u001b[0mdata\u001b[0m\u001b[0;34m)\u001b[0m\u001b[0;34m)\u001b[0m\u001b[0;34m\u001b[0m\u001b[0;34m\u001b[0m\u001b[0m\n\u001b[1;32m   3955\u001b[0m         \u001b[0;32mtry\u001b[0m\u001b[0;34m:\u001b[0m\u001b[0;34m\u001b[0m\u001b[0;34m\u001b[0m\u001b[0m\n\u001b[0;32m-> 3956\u001b[0;31m             \u001b[0msaxparser\u001b[0m\u001b[0;34m.\u001b[0m\u001b[0mparse\u001b[0m\u001b[0;34m(\u001b[0m\u001b[0msource\u001b[0m\u001b[0;34m)\u001b[0m\u001b[0;34m\u001b[0m\u001b[0;34m\u001b[0m\u001b[0m\n\u001b[0m\u001b[1;32m   3957\u001b[0m         \u001b[0;32mexcept\u001b[0m \u001b[0mxml\u001b[0m\u001b[0;34m.\u001b[0m\u001b[0msax\u001b[0m\u001b[0;34m.\u001b[0m\u001b[0mSAXException\u001b[0m \u001b[0;32mas\u001b[0m \u001b[0me\u001b[0m\u001b[0;34m:\u001b[0m\u001b[0;34m\u001b[0m\u001b[0;34m\u001b[0m\u001b[0m\n\u001b[1;32m   3958\u001b[0m             \u001b[0mresult\u001b[0m\u001b[0;34m[\u001b[0m\u001b[0;34m'bozo'\u001b[0m\u001b[0;34m]\u001b[0m \u001b[0;34m=\u001b[0m \u001b[0;36m1\u001b[0m\u001b[0;34m\u001b[0m\u001b[0;34m\u001b[0m\u001b[0m\n",
      "\u001b[0;32m~/anaconda3/lib/python3.7/xml/sax/expatreader.py\u001b[0m in \u001b[0;36mparse\u001b[0;34m(self, source)\u001b[0m\n\u001b[1;32m    109\u001b[0m             \u001b[0mself\u001b[0m\u001b[0;34m.\u001b[0m\u001b[0mreset\u001b[0m\u001b[0;34m(\u001b[0m\u001b[0;34m)\u001b[0m\u001b[0;34m\u001b[0m\u001b[0;34m\u001b[0m\u001b[0m\n\u001b[1;32m    110\u001b[0m             \u001b[0mself\u001b[0m\u001b[0;34m.\u001b[0m\u001b[0m_cont_handler\u001b[0m\u001b[0;34m.\u001b[0m\u001b[0msetDocumentLocator\u001b[0m\u001b[0;34m(\u001b[0m\u001b[0mExpatLocator\u001b[0m\u001b[0;34m(\u001b[0m\u001b[0mself\u001b[0m\u001b[0;34m)\u001b[0m\u001b[0;34m)\u001b[0m\u001b[0;34m\u001b[0m\u001b[0;34m\u001b[0m\u001b[0m\n\u001b[0;32m--> 111\u001b[0;31m             \u001b[0mxmlreader\u001b[0m\u001b[0;34m.\u001b[0m\u001b[0mIncrementalParser\u001b[0m\u001b[0;34m.\u001b[0m\u001b[0mparse\u001b[0m\u001b[0;34m(\u001b[0m\u001b[0mself\u001b[0m\u001b[0;34m,\u001b[0m \u001b[0msource\u001b[0m\u001b[0;34m)\u001b[0m\u001b[0;34m\u001b[0m\u001b[0;34m\u001b[0m\u001b[0m\n\u001b[0m\u001b[1;32m    112\u001b[0m         \u001b[0;32mexcept\u001b[0m\u001b[0;34m:\u001b[0m\u001b[0;34m\u001b[0m\u001b[0;34m\u001b[0m\u001b[0m\n\u001b[1;32m    113\u001b[0m             \u001b[0;31m# bpo-30264: Close the source on error to not leak resources:\u001b[0m\u001b[0;34m\u001b[0m\u001b[0;34m\u001b[0m\u001b[0;34m\u001b[0m\u001b[0m\n",
      "\u001b[0;32m~/anaconda3/lib/python3.7/xml/sax/xmlreader.py\u001b[0m in \u001b[0;36mparse\u001b[0;34m(self, source)\u001b[0m\n\u001b[1;32m    123\u001b[0m         \u001b[0mbuffer\u001b[0m \u001b[0;34m=\u001b[0m \u001b[0mfile\u001b[0m\u001b[0;34m.\u001b[0m\u001b[0mread\u001b[0m\u001b[0;34m(\u001b[0m\u001b[0mself\u001b[0m\u001b[0;34m.\u001b[0m\u001b[0m_bufsize\u001b[0m\u001b[0;34m)\u001b[0m\u001b[0;34m\u001b[0m\u001b[0;34m\u001b[0m\u001b[0m\n\u001b[1;32m    124\u001b[0m         \u001b[0;32mwhile\u001b[0m \u001b[0mbuffer\u001b[0m\u001b[0;34m:\u001b[0m\u001b[0;34m\u001b[0m\u001b[0;34m\u001b[0m\u001b[0m\n\u001b[0;32m--> 125\u001b[0;31m             \u001b[0mself\u001b[0m\u001b[0;34m.\u001b[0m\u001b[0mfeed\u001b[0m\u001b[0;34m(\u001b[0m\u001b[0mbuffer\u001b[0m\u001b[0;34m)\u001b[0m\u001b[0;34m\u001b[0m\u001b[0;34m\u001b[0m\u001b[0m\n\u001b[0m\u001b[1;32m    126\u001b[0m             \u001b[0mbuffer\u001b[0m \u001b[0;34m=\u001b[0m \u001b[0mfile\u001b[0m\u001b[0;34m.\u001b[0m\u001b[0mread\u001b[0m\u001b[0;34m(\u001b[0m\u001b[0mself\u001b[0m\u001b[0;34m.\u001b[0m\u001b[0m_bufsize\u001b[0m\u001b[0;34m)\u001b[0m\u001b[0;34m\u001b[0m\u001b[0;34m\u001b[0m\u001b[0m\n\u001b[1;32m    127\u001b[0m         \u001b[0mself\u001b[0m\u001b[0;34m.\u001b[0m\u001b[0mclose\u001b[0m\u001b[0;34m(\u001b[0m\u001b[0;34m)\u001b[0m\u001b[0;34m\u001b[0m\u001b[0;34m\u001b[0m\u001b[0m\n",
      "\u001b[0;32m~/anaconda3/lib/python3.7/xml/sax/expatreader.py\u001b[0m in \u001b[0;36mfeed\u001b[0;34m(self, data, isFinal)\u001b[0m\n\u001b[1;32m    215\u001b[0m             \u001b[0;31m# document. When feeding chunks, they are not normally final -\u001b[0m\u001b[0;34m\u001b[0m\u001b[0;34m\u001b[0m\u001b[0;34m\u001b[0m\u001b[0m\n\u001b[1;32m    216\u001b[0m             \u001b[0;31m# except when invoked from close.\u001b[0m\u001b[0;34m\u001b[0m\u001b[0;34m\u001b[0m\u001b[0;34m\u001b[0m\u001b[0m\n\u001b[0;32m--> 217\u001b[0;31m             \u001b[0mself\u001b[0m\u001b[0;34m.\u001b[0m\u001b[0m_parser\u001b[0m\u001b[0;34m.\u001b[0m\u001b[0mParse\u001b[0m\u001b[0;34m(\u001b[0m\u001b[0mdata\u001b[0m\u001b[0;34m,\u001b[0m \u001b[0misFinal\u001b[0m\u001b[0;34m)\u001b[0m\u001b[0;34m\u001b[0m\u001b[0;34m\u001b[0m\u001b[0m\n\u001b[0m\u001b[1;32m    218\u001b[0m         \u001b[0;32mexcept\u001b[0m \u001b[0mexpat\u001b[0m\u001b[0;34m.\u001b[0m\u001b[0merror\u001b[0m \u001b[0;32mas\u001b[0m \u001b[0me\u001b[0m\u001b[0;34m:\u001b[0m\u001b[0;34m\u001b[0m\u001b[0;34m\u001b[0m\u001b[0m\n\u001b[1;32m    219\u001b[0m             \u001b[0mexc\u001b[0m \u001b[0;34m=\u001b[0m \u001b[0mSAXParseException\u001b[0m\u001b[0;34m(\u001b[0m\u001b[0mexpat\u001b[0m\u001b[0;34m.\u001b[0m\u001b[0mErrorString\u001b[0m\u001b[0;34m(\u001b[0m\u001b[0me\u001b[0m\u001b[0;34m.\u001b[0m\u001b[0mcode\u001b[0m\u001b[0;34m)\u001b[0m\u001b[0;34m,\u001b[0m \u001b[0me\u001b[0m\u001b[0;34m,\u001b[0m \u001b[0mself\u001b[0m\u001b[0;34m)\u001b[0m\u001b[0;34m\u001b[0m\u001b[0;34m\u001b[0m\u001b[0m\n",
      "\u001b[0;32m/tmp/build/80754af9/python_1553721932202/work/Modules/pyexpat.c\u001b[0m in \u001b[0;36mEndElement\u001b[0;34m()\u001b[0m\n",
      "\u001b[0;32m~/anaconda3/lib/python3.7/xml/sax/expatreader.py\u001b[0m in \u001b[0;36mend_element_ns\u001b[0;34m(self, name)\u001b[0m\n\u001b[1;32m    379\u001b[0m             \u001b[0mpair\u001b[0m \u001b[0;34m=\u001b[0m \u001b[0mtuple\u001b[0m\u001b[0;34m(\u001b[0m\u001b[0mpair\u001b[0m\u001b[0;34m)\u001b[0m\u001b[0;34m\u001b[0m\u001b[0;34m\u001b[0m\u001b[0m\n\u001b[1;32m    380\u001b[0m \u001b[0;34m\u001b[0m\u001b[0m\n\u001b[0;32m--> 381\u001b[0;31m         \u001b[0mself\u001b[0m\u001b[0;34m.\u001b[0m\u001b[0m_cont_handler\u001b[0m\u001b[0;34m.\u001b[0m\u001b[0mendElementNS\u001b[0m\u001b[0;34m(\u001b[0m\u001b[0mpair\u001b[0m\u001b[0;34m,\u001b[0m \u001b[0;32mNone\u001b[0m\u001b[0;34m)\u001b[0m\u001b[0;34m\u001b[0m\u001b[0;34m\u001b[0m\u001b[0m\n\u001b[0m\u001b[1;32m    382\u001b[0m \u001b[0;34m\u001b[0m\u001b[0m\n\u001b[1;32m    383\u001b[0m     \u001b[0;31m# this is not used (call directly to ContentHandler)\u001b[0m\u001b[0;34m\u001b[0m\u001b[0;34m\u001b[0m\u001b[0;34m\u001b[0m\u001b[0m\n",
      "\u001b[0;32m~/anaconda3/lib/python3.7/site-packages/feedparser.py\u001b[0m in \u001b[0;36mendElementNS\u001b[0;34m(self, name, qname)\u001b[0m\n\u001b[1;32m   2050\u001b[0m                         \u001b[0;32mbreak\u001b[0m\u001b[0;34m\u001b[0m\u001b[0;34m\u001b[0m\u001b[0m\n\u001b[1;32m   2051\u001b[0m             \u001b[0mlocalname\u001b[0m \u001b[0;34m=\u001b[0m \u001b[0mstr\u001b[0m\u001b[0;34m(\u001b[0m\u001b[0mlocalname\u001b[0m\u001b[0;34m)\u001b[0m\u001b[0;34m.\u001b[0m\u001b[0mlower\u001b[0m\u001b[0;34m(\u001b[0m\u001b[0;34m)\u001b[0m\u001b[0;34m\u001b[0m\u001b[0;34m\u001b[0m\u001b[0m\n\u001b[0;32m-> 2052\u001b[0;31m             \u001b[0mself\u001b[0m\u001b[0;34m.\u001b[0m\u001b[0munknown_endtag\u001b[0m\u001b[0;34m(\u001b[0m\u001b[0mlocalname\u001b[0m\u001b[0;34m)\u001b[0m\u001b[0;34m\u001b[0m\u001b[0;34m\u001b[0m\u001b[0m\n\u001b[0m\u001b[1;32m   2053\u001b[0m \u001b[0;34m\u001b[0m\u001b[0m\n\u001b[1;32m   2054\u001b[0m         \u001b[0;32mdef\u001b[0m \u001b[0merror\u001b[0m\u001b[0;34m(\u001b[0m\u001b[0mself\u001b[0m\u001b[0;34m,\u001b[0m \u001b[0mexc\u001b[0m\u001b[0;34m)\u001b[0m\u001b[0;34m:\u001b[0m\u001b[0;34m\u001b[0m\u001b[0;34m\u001b[0m\u001b[0m\n",
      "\u001b[0;32m~/anaconda3/lib/python3.7/site-packages/feedparser.py\u001b[0m in \u001b[0;36munknown_endtag\u001b[0;34m(self, tag)\u001b[0m\n\u001b[1;32m    694\u001b[0m                 \u001b[0;32mraise\u001b[0m \u001b[0mAttributeError\u001b[0m\u001b[0;34m(\u001b[0m\u001b[0;34m)\u001b[0m\u001b[0;34m\u001b[0m\u001b[0;34m\u001b[0m\u001b[0m\n\u001b[1;32m    695\u001b[0m             \u001b[0mmethod\u001b[0m \u001b[0;34m=\u001b[0m \u001b[0mgetattr\u001b[0m\u001b[0;34m(\u001b[0m\u001b[0mself\u001b[0m\u001b[0;34m,\u001b[0m \u001b[0mmethodname\u001b[0m\u001b[0;34m)\u001b[0m\u001b[0;34m\u001b[0m\u001b[0;34m\u001b[0m\u001b[0m\n\u001b[0;32m--> 696\u001b[0;31m             \u001b[0mmethod\u001b[0m\u001b[0;34m(\u001b[0m\u001b[0;34m)\u001b[0m\u001b[0;34m\u001b[0m\u001b[0;34m\u001b[0m\u001b[0m\n\u001b[0m\u001b[1;32m    697\u001b[0m         \u001b[0;32mexcept\u001b[0m \u001b[0mAttributeError\u001b[0m\u001b[0;34m:\u001b[0m\u001b[0;34m\u001b[0m\u001b[0;34m\u001b[0m\u001b[0m\n\u001b[1;32m    698\u001b[0m             \u001b[0mself\u001b[0m\u001b[0;34m.\u001b[0m\u001b[0mpop\u001b[0m\u001b[0;34m(\u001b[0m\u001b[0mprefix\u001b[0m \u001b[0;34m+\u001b[0m \u001b[0msuffix\u001b[0m\u001b[0;34m)\u001b[0m\u001b[0;34m\u001b[0m\u001b[0;34m\u001b[0m\u001b[0m\n",
      "\u001b[0;32m~/anaconda3/lib/python3.7/site-packages/feedparser.py\u001b[0m in \u001b[0;36m_end_georss_point\u001b[0;34m(self)\u001b[0m\n\u001b[1;32m   1461\u001b[0m \u001b[0;34m\u001b[0m\u001b[0m\n\u001b[1;32m   1462\u001b[0m     \u001b[0;32mdef\u001b[0m \u001b[0m_end_georss_point\u001b[0m\u001b[0;34m(\u001b[0m\u001b[0mself\u001b[0m\u001b[0;34m)\u001b[0m\u001b[0;34m:\u001b[0m\u001b[0;34m\u001b[0m\u001b[0;34m\u001b[0m\u001b[0m\n\u001b[0;32m-> 1463\u001b[0;31m         \u001b[0mgeometry\u001b[0m \u001b[0;34m=\u001b[0m \u001b[0m_parse_georss_point\u001b[0m\u001b[0;34m(\u001b[0m\u001b[0mself\u001b[0m\u001b[0;34m.\u001b[0m\u001b[0mpop\u001b[0m\u001b[0;34m(\u001b[0m\u001b[0;34m'geometry'\u001b[0m\u001b[0;34m)\u001b[0m\u001b[0;34m)\u001b[0m\u001b[0;34m\u001b[0m\u001b[0;34m\u001b[0m\u001b[0m\n\u001b[0m\u001b[1;32m   1464\u001b[0m         \u001b[0;32mif\u001b[0m \u001b[0mgeometry\u001b[0m\u001b[0;34m:\u001b[0m\u001b[0;34m\u001b[0m\u001b[0;34m\u001b[0m\u001b[0m\n\u001b[1;32m   1465\u001b[0m             \u001b[0mself\u001b[0m\u001b[0;34m.\u001b[0m\u001b[0m_save_where\u001b[0m\u001b[0;34m(\u001b[0m\u001b[0mgeometry\u001b[0m\u001b[0;34m)\u001b[0m\u001b[0;34m\u001b[0m\u001b[0;34m\u001b[0m\u001b[0m\n",
      "\u001b[0;32m~/anaconda3/lib/python3.7/site-packages/feedparser.py\u001b[0m in \u001b[0;36m_parse_georss_point\u001b[0;34m(value, swap, dims)\u001b[0m\n\u001b[1;32m   3773\u001b[0m     \u001b[0;31m# whitespace. We'll also handle comma separators.\u001b[0m\u001b[0;34m\u001b[0m\u001b[0;34m\u001b[0m\u001b[0;34m\u001b[0m\u001b[0m\n\u001b[1;32m   3774\u001b[0m     \u001b[0;32mtry\u001b[0m\u001b[0;34m:\u001b[0m\u001b[0;34m\u001b[0m\u001b[0;34m\u001b[0m\u001b[0m\n\u001b[0;32m-> 3775\u001b[0;31m         \u001b[0mcoords\u001b[0m \u001b[0;34m=\u001b[0m \u001b[0mlist\u001b[0m\u001b[0;34m(\u001b[0m\u001b[0m_gen_georss_coords\u001b[0m\u001b[0;34m(\u001b[0m\u001b[0mvalue\u001b[0m\u001b[0;34m,\u001b[0m \u001b[0mswap\u001b[0m\u001b[0;34m,\u001b[0m \u001b[0mdims\u001b[0m\u001b[0;34m)\u001b[0m\u001b[0;34m)\u001b[0m\u001b[0;34m\u001b[0m\u001b[0;34m\u001b[0m\u001b[0m\n\u001b[0m\u001b[1;32m   3776\u001b[0m         \u001b[0;32mreturn\u001b[0m \u001b[0;34m{\u001b[0m\u001b[0;34m'type'\u001b[0m\u001b[0;34m:\u001b[0m \u001b[0;34m'Point'\u001b[0m\u001b[0;34m,\u001b[0m \u001b[0;34m'coordinates'\u001b[0m\u001b[0;34m:\u001b[0m \u001b[0mcoords\u001b[0m\u001b[0;34m[\u001b[0m\u001b[0;36m0\u001b[0m\u001b[0;34m]\u001b[0m\u001b[0;34m}\u001b[0m\u001b[0;34m\u001b[0m\u001b[0;34m\u001b[0m\u001b[0m\n\u001b[1;32m   3777\u001b[0m     \u001b[0;32mexcept\u001b[0m \u001b[0;34m(\u001b[0m\u001b[0mIndexError\u001b[0m\u001b[0;34m,\u001b[0m \u001b[0mValueError\u001b[0m\u001b[0;34m)\u001b[0m\u001b[0;34m:\u001b[0m\u001b[0;34m\u001b[0m\u001b[0;34m\u001b[0m\u001b[0m\n",
      "\u001b[0;31mRuntimeError\u001b[0m: generator raised StopIteration"
     ]
    }
   ],
   "source": [
    "import csv\n",
    "import json\n",
    "import re\n",
    "import requests\n",
    "import  feedparser\n",
    "import pandas as pd\n",
    "import qgrid\n",
    "import matplotlib\n",
    "import seaborn\n",
    "import folium\n",
    "\n",
    "\n",
    "\n",
    "rss_analyst = 'https://fr.indeed.com/rss?q=data+analyst'\n",
    "rss_scientist = 'https://fr.indeed.com/rss?q=data+scientist'\n",
    "rss_engineer = 'https://fr.indeed.com/rss?q=data+engineer'\n",
    "rss = [rss_analyst, rss_scientist, rss_engineer]\n",
    "\n",
    "ind_data = {\n",
    "            \"Poste\":[],\n",
    "            \"Entreprise\":[],\n",
    "            \"Date de publication\":[],\n",
    "            \"Lien\":[],\n",
    "            \"Description\":[],\n",
    "            \"Latitude\":[],\n",
    "            \"Longitud\":[],\n",
    "        }\n",
    "\n",
    "\n",
    "def indeed():\n",
    "    for i in rss:\n",
    "        try:\n",
    "            d = feedparser.parse('https://fr.indeed.com/rss?q=data&l=france')\n",
    "            for rows in range(len(d.entries)):\n",
    "                titre = d.entries[rows].title\n",
    "                source = d.entries[rows].source.title       \n",
    "                description = d.entries[rows].description\n",
    "                date = d.entries[rows].published\n",
    "                date = datetime.datetime.strptime(date, '%a, %d %b %Y %H:%M:%S %Z')\n",
    "                lien = d.entries[rows].links[0].href\n",
    "                #latitude = d.entries[rows].item\n",
    "                #regex = re.search('>(\\d{0,}\\.\\d{0,}) (\\-[0-9].\\d{0,}|\\S.\\d{0,})<', latitude)\n",
    "                #latitude = regex.group(1)\n",
    "                #longitude = d.entries[rows].item\n",
    "                #regex = re.search('>(\\d{0,}\\.\\d{0,}) (\\-[0-9].\\d{0,}|\\S.\\d{0,})<', longitude)\n",
    "                #longitude = regex.group(2)\n",
    "                print(titre,\" || \", source, \" || \", date, \" || \", description.strip(), \" || \", lien, \"\\n\")\n",
    "                ind_data[\"Poste\"].append(titre)\n",
    "                ind_data[\"Date de publication\"].append(date)\n",
    "                ind_data[\"Entreprise\"].append(source)\n",
    "                ind_data[\"Description\"].append(description)\n",
    "                ind_data[\"Lien\"].append(lien)\n",
    "                #ind_data[\"Latitude\"].append(latitude)\n",
    "                #ind_data[\"Longitude\"].append(longitude)\n",
    "        except StopIteration:\n",
    "            print(\"erreor iteration\")\n",
    "\n",
    "indeed()"
   ]
  },
  {
   "cell_type": "code",
   "execution_count": 3,
   "id": "sized-trail",
   "metadata": {},
   "outputs": [
    {
     "ename": "NameError",
     "evalue": "name 'ind_data' is not defined",
     "output_type": "error",
     "traceback": [
      "\u001b[0;31m---------------------------------------------------------------------------\u001b[0m",
      "\u001b[0;31mNameError\u001b[0m                                 Traceback (most recent call last)",
      "\u001b[0;32m<ipython-input-3-fb44c7be45b3>\u001b[0m in \u001b[0;36m<module>\u001b[0;34m\u001b[0m\n\u001b[0;32m----> 1\u001b[0;31m \u001b[0mdf\u001b[0m \u001b[0;34m=\u001b[0m \u001b[0mpd\u001b[0m\u001b[0;34m.\u001b[0m\u001b[0mDataFrame\u001b[0m\u001b[0;34m(\u001b[0m\u001b[0mind_data\u001b[0m\u001b[0;34m)\u001b[0m\u001b[0;34m\u001b[0m\u001b[0;34m\u001b[0m\u001b[0m\n\u001b[0m\u001b[1;32m      2\u001b[0m \u001b[0mdf_qgrid\u001b[0m \u001b[0;34m=\u001b[0m \u001b[0mqgrid\u001b[0m\u001b[0;34m.\u001b[0m\u001b[0mshow_grid\u001b[0m\u001b[0;34m(\u001b[0m\u001b[0mdf\u001b[0m\u001b[0;34m,\u001b[0m \u001b[0mshow_toolbar\u001b[0m\u001b[0;34m=\u001b[0m\u001b[0;32mTrue\u001b[0m\u001b[0;34m)\u001b[0m\u001b[0;34m\u001b[0m\u001b[0;34m\u001b[0m\u001b[0m\n\u001b[1;32m      3\u001b[0m \u001b[0mdf_qgrid\u001b[0m\u001b[0;34m\u001b[0m\u001b[0;34m\u001b[0m\u001b[0m\n",
      "\u001b[0;31mNameError\u001b[0m: name 'ind_data' is not defined"
     ]
    }
   ],
   "source": [
    "df = pd.DataFrame(ind_data)\n",
    "df_qgrid = qgrid.show_grid(df, show_toolbar=True)\n",
    "df_qgrid"
   ]
  },
  {
   "cell_type": "code",
   "execution_count": 9,
   "id": "unexpected-satisfaction",
   "metadata": {},
   "outputs": [
    {
     "ename": "RuntimeError",
     "evalue": "generator raised StopIteration",
     "output_type": "error",
     "traceback": [
      "\u001b[0;31m---------------------------------------------------------------------------\u001b[0m",
      "\u001b[0;31mStopIteration\u001b[0m                             Traceback (most recent call last)",
      "\u001b[0;32m~/anaconda3/lib/python3.7/site-packages/feedparser.py\u001b[0m in \u001b[0;36m_gen_georss_coords\u001b[0;34m(value, swap, dims)\u001b[0m\n\u001b[1;32m   3765\u001b[0m     \u001b[0;32mwhile\u001b[0m \u001b[0;32mTrue\u001b[0m\u001b[0;34m:\u001b[0m\u001b[0;34m\u001b[0m\u001b[0;34m\u001b[0m\u001b[0m\n\u001b[0;32m-> 3766\u001b[0;31m         \u001b[0mt\u001b[0m \u001b[0;34m=\u001b[0m \u001b[0;34m[\u001b[0m\u001b[0mnxt\u001b[0m\u001b[0;34m(\u001b[0m\u001b[0;34m)\u001b[0m\u001b[0;34m,\u001b[0m \u001b[0mnxt\u001b[0m\u001b[0;34m(\u001b[0m\u001b[0;34m)\u001b[0m\u001b[0;34m]\u001b[0m\u001b[0;34m[\u001b[0m\u001b[0;34m:\u001b[0m\u001b[0;34m:\u001b[0m\u001b[0mswap\u001b[0m \u001b[0;32mand\u001b[0m \u001b[0;34m-\u001b[0m\u001b[0;36m1\u001b[0m \u001b[0;32mor\u001b[0m \u001b[0;36m1\u001b[0m\u001b[0;34m]\u001b[0m\u001b[0;34m\u001b[0m\u001b[0;34m\u001b[0m\u001b[0m\n\u001b[0m\u001b[1;32m   3767\u001b[0m         \u001b[0;32mif\u001b[0m \u001b[0mdims\u001b[0m \u001b[0;34m==\u001b[0m \u001b[0;36m3\u001b[0m\u001b[0;34m:\u001b[0m\u001b[0;34m\u001b[0m\u001b[0;34m\u001b[0m\u001b[0m\n",
      "\u001b[0;31mStopIteration\u001b[0m: ",
      "\nThe above exception was the direct cause of the following exception:\n",
      "\u001b[0;31mRuntimeError\u001b[0m                              Traceback (most recent call last)",
      "\u001b[0;32m<ipython-input-9-bc81a48c684a>\u001b[0m in \u001b[0;36m<module>\u001b[0;34m\u001b[0m\n\u001b[0;32m----> 1\u001b[0;31m \u001b[0md\u001b[0m \u001b[0;34m=\u001b[0m \u001b[0mfeedparser\u001b[0m\u001b[0;34m.\u001b[0m\u001b[0mparse\u001b[0m\u001b[0;34m(\u001b[0m\u001b[0;34m'https://fr.indeed.com/rss?q=data&l=france'\u001b[0m\u001b[0;34m)\u001b[0m\u001b[0;34m\u001b[0m\u001b[0;34m\u001b[0m\u001b[0m\n\u001b[0m\u001b[1;32m      2\u001b[0m \u001b[0md\u001b[0m\u001b[0;34m\u001b[0m\u001b[0;34m\u001b[0m\u001b[0m\n",
      "\u001b[0;32m~/anaconda3/lib/python3.7/site-packages/feedparser.py\u001b[0m in \u001b[0;36mparse\u001b[0;34m(url_file_stream_or_string, etag, modified, agent, referrer, handlers, request_headers, response_headers)\u001b[0m\n\u001b[1;32m   3954\u001b[0m         \u001b[0msource\u001b[0m\u001b[0;34m.\u001b[0m\u001b[0msetByteStream\u001b[0m\u001b[0;34m(\u001b[0m\u001b[0m_StringIO\u001b[0m\u001b[0;34m(\u001b[0m\u001b[0mdata\u001b[0m\u001b[0;34m)\u001b[0m\u001b[0;34m)\u001b[0m\u001b[0;34m\u001b[0m\u001b[0;34m\u001b[0m\u001b[0m\n\u001b[1;32m   3955\u001b[0m         \u001b[0;32mtry\u001b[0m\u001b[0;34m:\u001b[0m\u001b[0;34m\u001b[0m\u001b[0;34m\u001b[0m\u001b[0m\n\u001b[0;32m-> 3956\u001b[0;31m             \u001b[0msaxparser\u001b[0m\u001b[0;34m.\u001b[0m\u001b[0mparse\u001b[0m\u001b[0;34m(\u001b[0m\u001b[0msource\u001b[0m\u001b[0;34m)\u001b[0m\u001b[0;34m\u001b[0m\u001b[0;34m\u001b[0m\u001b[0m\n\u001b[0m\u001b[1;32m   3957\u001b[0m         \u001b[0;32mexcept\u001b[0m \u001b[0mxml\u001b[0m\u001b[0;34m.\u001b[0m\u001b[0msax\u001b[0m\u001b[0;34m.\u001b[0m\u001b[0mSAXException\u001b[0m \u001b[0;32mas\u001b[0m \u001b[0me\u001b[0m\u001b[0;34m:\u001b[0m\u001b[0;34m\u001b[0m\u001b[0;34m\u001b[0m\u001b[0m\n\u001b[1;32m   3958\u001b[0m             \u001b[0mresult\u001b[0m\u001b[0;34m[\u001b[0m\u001b[0;34m'bozo'\u001b[0m\u001b[0;34m]\u001b[0m \u001b[0;34m=\u001b[0m \u001b[0;36m1\u001b[0m\u001b[0;34m\u001b[0m\u001b[0;34m\u001b[0m\u001b[0m\n",
      "\u001b[0;32m~/anaconda3/lib/python3.7/xml/sax/expatreader.py\u001b[0m in \u001b[0;36mparse\u001b[0;34m(self, source)\u001b[0m\n\u001b[1;32m    109\u001b[0m             \u001b[0mself\u001b[0m\u001b[0;34m.\u001b[0m\u001b[0mreset\u001b[0m\u001b[0;34m(\u001b[0m\u001b[0;34m)\u001b[0m\u001b[0;34m\u001b[0m\u001b[0;34m\u001b[0m\u001b[0m\n\u001b[1;32m    110\u001b[0m             \u001b[0mself\u001b[0m\u001b[0;34m.\u001b[0m\u001b[0m_cont_handler\u001b[0m\u001b[0;34m.\u001b[0m\u001b[0msetDocumentLocator\u001b[0m\u001b[0;34m(\u001b[0m\u001b[0mExpatLocator\u001b[0m\u001b[0;34m(\u001b[0m\u001b[0mself\u001b[0m\u001b[0;34m)\u001b[0m\u001b[0;34m)\u001b[0m\u001b[0;34m\u001b[0m\u001b[0;34m\u001b[0m\u001b[0m\n\u001b[0;32m--> 111\u001b[0;31m             \u001b[0mxmlreader\u001b[0m\u001b[0;34m.\u001b[0m\u001b[0mIncrementalParser\u001b[0m\u001b[0;34m.\u001b[0m\u001b[0mparse\u001b[0m\u001b[0;34m(\u001b[0m\u001b[0mself\u001b[0m\u001b[0;34m,\u001b[0m \u001b[0msource\u001b[0m\u001b[0;34m)\u001b[0m\u001b[0;34m\u001b[0m\u001b[0;34m\u001b[0m\u001b[0m\n\u001b[0m\u001b[1;32m    112\u001b[0m         \u001b[0;32mexcept\u001b[0m\u001b[0;34m:\u001b[0m\u001b[0;34m\u001b[0m\u001b[0;34m\u001b[0m\u001b[0m\n\u001b[1;32m    113\u001b[0m             \u001b[0;31m# bpo-30264: Close the source on error to not leak resources:\u001b[0m\u001b[0;34m\u001b[0m\u001b[0;34m\u001b[0m\u001b[0;34m\u001b[0m\u001b[0m\n",
      "\u001b[0;32m~/anaconda3/lib/python3.7/xml/sax/xmlreader.py\u001b[0m in \u001b[0;36mparse\u001b[0;34m(self, source)\u001b[0m\n\u001b[1;32m    123\u001b[0m         \u001b[0mbuffer\u001b[0m \u001b[0;34m=\u001b[0m \u001b[0mfile\u001b[0m\u001b[0;34m.\u001b[0m\u001b[0mread\u001b[0m\u001b[0;34m(\u001b[0m\u001b[0mself\u001b[0m\u001b[0;34m.\u001b[0m\u001b[0m_bufsize\u001b[0m\u001b[0;34m)\u001b[0m\u001b[0;34m\u001b[0m\u001b[0;34m\u001b[0m\u001b[0m\n\u001b[1;32m    124\u001b[0m         \u001b[0;32mwhile\u001b[0m \u001b[0mbuffer\u001b[0m\u001b[0;34m:\u001b[0m\u001b[0;34m\u001b[0m\u001b[0;34m\u001b[0m\u001b[0m\n\u001b[0;32m--> 125\u001b[0;31m             \u001b[0mself\u001b[0m\u001b[0;34m.\u001b[0m\u001b[0mfeed\u001b[0m\u001b[0;34m(\u001b[0m\u001b[0mbuffer\u001b[0m\u001b[0;34m)\u001b[0m\u001b[0;34m\u001b[0m\u001b[0;34m\u001b[0m\u001b[0m\n\u001b[0m\u001b[1;32m    126\u001b[0m             \u001b[0mbuffer\u001b[0m \u001b[0;34m=\u001b[0m \u001b[0mfile\u001b[0m\u001b[0;34m.\u001b[0m\u001b[0mread\u001b[0m\u001b[0;34m(\u001b[0m\u001b[0mself\u001b[0m\u001b[0;34m.\u001b[0m\u001b[0m_bufsize\u001b[0m\u001b[0;34m)\u001b[0m\u001b[0;34m\u001b[0m\u001b[0;34m\u001b[0m\u001b[0m\n\u001b[1;32m    127\u001b[0m         \u001b[0mself\u001b[0m\u001b[0;34m.\u001b[0m\u001b[0mclose\u001b[0m\u001b[0;34m(\u001b[0m\u001b[0;34m)\u001b[0m\u001b[0;34m\u001b[0m\u001b[0;34m\u001b[0m\u001b[0m\n",
      "\u001b[0;32m~/anaconda3/lib/python3.7/xml/sax/expatreader.py\u001b[0m in \u001b[0;36mfeed\u001b[0;34m(self, data, isFinal)\u001b[0m\n\u001b[1;32m    215\u001b[0m             \u001b[0;31m# document. When feeding chunks, they are not normally final -\u001b[0m\u001b[0;34m\u001b[0m\u001b[0;34m\u001b[0m\u001b[0;34m\u001b[0m\u001b[0m\n\u001b[1;32m    216\u001b[0m             \u001b[0;31m# except when invoked from close.\u001b[0m\u001b[0;34m\u001b[0m\u001b[0;34m\u001b[0m\u001b[0;34m\u001b[0m\u001b[0m\n\u001b[0;32m--> 217\u001b[0;31m             \u001b[0mself\u001b[0m\u001b[0;34m.\u001b[0m\u001b[0m_parser\u001b[0m\u001b[0;34m.\u001b[0m\u001b[0mParse\u001b[0m\u001b[0;34m(\u001b[0m\u001b[0mdata\u001b[0m\u001b[0;34m,\u001b[0m \u001b[0misFinal\u001b[0m\u001b[0;34m)\u001b[0m\u001b[0;34m\u001b[0m\u001b[0;34m\u001b[0m\u001b[0m\n\u001b[0m\u001b[1;32m    218\u001b[0m         \u001b[0;32mexcept\u001b[0m \u001b[0mexpat\u001b[0m\u001b[0;34m.\u001b[0m\u001b[0merror\u001b[0m \u001b[0;32mas\u001b[0m \u001b[0me\u001b[0m\u001b[0;34m:\u001b[0m\u001b[0;34m\u001b[0m\u001b[0;34m\u001b[0m\u001b[0m\n\u001b[1;32m    219\u001b[0m             \u001b[0mexc\u001b[0m \u001b[0;34m=\u001b[0m \u001b[0mSAXParseException\u001b[0m\u001b[0;34m(\u001b[0m\u001b[0mexpat\u001b[0m\u001b[0;34m.\u001b[0m\u001b[0mErrorString\u001b[0m\u001b[0;34m(\u001b[0m\u001b[0me\u001b[0m\u001b[0;34m.\u001b[0m\u001b[0mcode\u001b[0m\u001b[0;34m)\u001b[0m\u001b[0;34m,\u001b[0m \u001b[0me\u001b[0m\u001b[0;34m,\u001b[0m \u001b[0mself\u001b[0m\u001b[0;34m)\u001b[0m\u001b[0;34m\u001b[0m\u001b[0;34m\u001b[0m\u001b[0m\n",
      "\u001b[0;32m/tmp/build/80754af9/python_1553721932202/work/Modules/pyexpat.c\u001b[0m in \u001b[0;36mEndElement\u001b[0;34m()\u001b[0m\n",
      "\u001b[0;32m~/anaconda3/lib/python3.7/xml/sax/expatreader.py\u001b[0m in \u001b[0;36mend_element_ns\u001b[0;34m(self, name)\u001b[0m\n\u001b[1;32m    379\u001b[0m             \u001b[0mpair\u001b[0m \u001b[0;34m=\u001b[0m \u001b[0mtuple\u001b[0m\u001b[0;34m(\u001b[0m\u001b[0mpair\u001b[0m\u001b[0;34m)\u001b[0m\u001b[0;34m\u001b[0m\u001b[0;34m\u001b[0m\u001b[0m\n\u001b[1;32m    380\u001b[0m \u001b[0;34m\u001b[0m\u001b[0m\n\u001b[0;32m--> 381\u001b[0;31m         \u001b[0mself\u001b[0m\u001b[0;34m.\u001b[0m\u001b[0m_cont_handler\u001b[0m\u001b[0;34m.\u001b[0m\u001b[0mendElementNS\u001b[0m\u001b[0;34m(\u001b[0m\u001b[0mpair\u001b[0m\u001b[0;34m,\u001b[0m \u001b[0;32mNone\u001b[0m\u001b[0;34m)\u001b[0m\u001b[0;34m\u001b[0m\u001b[0;34m\u001b[0m\u001b[0m\n\u001b[0m\u001b[1;32m    382\u001b[0m \u001b[0;34m\u001b[0m\u001b[0m\n\u001b[1;32m    383\u001b[0m     \u001b[0;31m# this is not used (call directly to ContentHandler)\u001b[0m\u001b[0;34m\u001b[0m\u001b[0;34m\u001b[0m\u001b[0;34m\u001b[0m\u001b[0m\n",
      "\u001b[0;32m~/anaconda3/lib/python3.7/site-packages/feedparser.py\u001b[0m in \u001b[0;36mendElementNS\u001b[0;34m(self, name, qname)\u001b[0m\n\u001b[1;32m   2050\u001b[0m                         \u001b[0;32mbreak\u001b[0m\u001b[0;34m\u001b[0m\u001b[0;34m\u001b[0m\u001b[0m\n\u001b[1;32m   2051\u001b[0m             \u001b[0mlocalname\u001b[0m \u001b[0;34m=\u001b[0m \u001b[0mstr\u001b[0m\u001b[0;34m(\u001b[0m\u001b[0mlocalname\u001b[0m\u001b[0;34m)\u001b[0m\u001b[0;34m.\u001b[0m\u001b[0mlower\u001b[0m\u001b[0;34m(\u001b[0m\u001b[0;34m)\u001b[0m\u001b[0;34m\u001b[0m\u001b[0;34m\u001b[0m\u001b[0m\n\u001b[0;32m-> 2052\u001b[0;31m             \u001b[0mself\u001b[0m\u001b[0;34m.\u001b[0m\u001b[0munknown_endtag\u001b[0m\u001b[0;34m(\u001b[0m\u001b[0mlocalname\u001b[0m\u001b[0;34m)\u001b[0m\u001b[0;34m\u001b[0m\u001b[0;34m\u001b[0m\u001b[0m\n\u001b[0m\u001b[1;32m   2053\u001b[0m \u001b[0;34m\u001b[0m\u001b[0m\n\u001b[1;32m   2054\u001b[0m         \u001b[0;32mdef\u001b[0m \u001b[0merror\u001b[0m\u001b[0;34m(\u001b[0m\u001b[0mself\u001b[0m\u001b[0;34m,\u001b[0m \u001b[0mexc\u001b[0m\u001b[0;34m)\u001b[0m\u001b[0;34m:\u001b[0m\u001b[0;34m\u001b[0m\u001b[0;34m\u001b[0m\u001b[0m\n",
      "\u001b[0;32m~/anaconda3/lib/python3.7/site-packages/feedparser.py\u001b[0m in \u001b[0;36munknown_endtag\u001b[0;34m(self, tag)\u001b[0m\n\u001b[1;32m    694\u001b[0m                 \u001b[0;32mraise\u001b[0m \u001b[0mAttributeError\u001b[0m\u001b[0;34m(\u001b[0m\u001b[0;34m)\u001b[0m\u001b[0;34m\u001b[0m\u001b[0;34m\u001b[0m\u001b[0m\n\u001b[1;32m    695\u001b[0m             \u001b[0mmethod\u001b[0m \u001b[0;34m=\u001b[0m \u001b[0mgetattr\u001b[0m\u001b[0;34m(\u001b[0m\u001b[0mself\u001b[0m\u001b[0;34m,\u001b[0m \u001b[0mmethodname\u001b[0m\u001b[0;34m)\u001b[0m\u001b[0;34m\u001b[0m\u001b[0;34m\u001b[0m\u001b[0m\n\u001b[0;32m--> 696\u001b[0;31m             \u001b[0mmethod\u001b[0m\u001b[0;34m(\u001b[0m\u001b[0;34m)\u001b[0m\u001b[0;34m\u001b[0m\u001b[0;34m\u001b[0m\u001b[0m\n\u001b[0m\u001b[1;32m    697\u001b[0m         \u001b[0;32mexcept\u001b[0m \u001b[0mAttributeError\u001b[0m\u001b[0;34m:\u001b[0m\u001b[0;34m\u001b[0m\u001b[0;34m\u001b[0m\u001b[0m\n\u001b[1;32m    698\u001b[0m             \u001b[0mself\u001b[0m\u001b[0;34m.\u001b[0m\u001b[0mpop\u001b[0m\u001b[0;34m(\u001b[0m\u001b[0mprefix\u001b[0m \u001b[0;34m+\u001b[0m \u001b[0msuffix\u001b[0m\u001b[0;34m)\u001b[0m\u001b[0;34m\u001b[0m\u001b[0;34m\u001b[0m\u001b[0m\n",
      "\u001b[0;32m~/anaconda3/lib/python3.7/site-packages/feedparser.py\u001b[0m in \u001b[0;36m_end_georss_point\u001b[0;34m(self)\u001b[0m\n\u001b[1;32m   1461\u001b[0m \u001b[0;34m\u001b[0m\u001b[0m\n\u001b[1;32m   1462\u001b[0m     \u001b[0;32mdef\u001b[0m \u001b[0m_end_georss_point\u001b[0m\u001b[0;34m(\u001b[0m\u001b[0mself\u001b[0m\u001b[0;34m)\u001b[0m\u001b[0;34m:\u001b[0m\u001b[0;34m\u001b[0m\u001b[0;34m\u001b[0m\u001b[0m\n\u001b[0;32m-> 1463\u001b[0;31m         \u001b[0mgeometry\u001b[0m \u001b[0;34m=\u001b[0m \u001b[0m_parse_georss_point\u001b[0m\u001b[0;34m(\u001b[0m\u001b[0mself\u001b[0m\u001b[0;34m.\u001b[0m\u001b[0mpop\u001b[0m\u001b[0;34m(\u001b[0m\u001b[0;34m'geometry'\u001b[0m\u001b[0;34m)\u001b[0m\u001b[0;34m)\u001b[0m\u001b[0;34m\u001b[0m\u001b[0;34m\u001b[0m\u001b[0m\n\u001b[0m\u001b[1;32m   1464\u001b[0m         \u001b[0;32mif\u001b[0m \u001b[0mgeometry\u001b[0m\u001b[0;34m:\u001b[0m\u001b[0;34m\u001b[0m\u001b[0;34m\u001b[0m\u001b[0m\n\u001b[1;32m   1465\u001b[0m             \u001b[0mself\u001b[0m\u001b[0;34m.\u001b[0m\u001b[0m_save_where\u001b[0m\u001b[0;34m(\u001b[0m\u001b[0mgeometry\u001b[0m\u001b[0;34m)\u001b[0m\u001b[0;34m\u001b[0m\u001b[0;34m\u001b[0m\u001b[0m\n",
      "\u001b[0;32m~/anaconda3/lib/python3.7/site-packages/feedparser.py\u001b[0m in \u001b[0;36m_parse_georss_point\u001b[0;34m(value, swap, dims)\u001b[0m\n\u001b[1;32m   3773\u001b[0m     \u001b[0;31m# whitespace. We'll also handle comma separators.\u001b[0m\u001b[0;34m\u001b[0m\u001b[0;34m\u001b[0m\u001b[0;34m\u001b[0m\u001b[0m\n\u001b[1;32m   3774\u001b[0m     \u001b[0;32mtry\u001b[0m\u001b[0;34m:\u001b[0m\u001b[0;34m\u001b[0m\u001b[0;34m\u001b[0m\u001b[0m\n\u001b[0;32m-> 3775\u001b[0;31m         \u001b[0mcoords\u001b[0m \u001b[0;34m=\u001b[0m \u001b[0mlist\u001b[0m\u001b[0;34m(\u001b[0m\u001b[0m_gen_georss_coords\u001b[0m\u001b[0;34m(\u001b[0m\u001b[0mvalue\u001b[0m\u001b[0;34m,\u001b[0m \u001b[0mswap\u001b[0m\u001b[0;34m,\u001b[0m \u001b[0mdims\u001b[0m\u001b[0;34m)\u001b[0m\u001b[0;34m)\u001b[0m\u001b[0;34m\u001b[0m\u001b[0;34m\u001b[0m\u001b[0m\n\u001b[0m\u001b[1;32m   3776\u001b[0m         \u001b[0;32mreturn\u001b[0m \u001b[0;34m{\u001b[0m\u001b[0;34m'type'\u001b[0m\u001b[0;34m:\u001b[0m \u001b[0;34m'Point'\u001b[0m\u001b[0;34m,\u001b[0m \u001b[0;34m'coordinates'\u001b[0m\u001b[0;34m:\u001b[0m \u001b[0mcoords\u001b[0m\u001b[0;34m[\u001b[0m\u001b[0;36m0\u001b[0m\u001b[0;34m]\u001b[0m\u001b[0;34m}\u001b[0m\u001b[0;34m\u001b[0m\u001b[0;34m\u001b[0m\u001b[0m\n\u001b[1;32m   3777\u001b[0m     \u001b[0;32mexcept\u001b[0m \u001b[0;34m(\u001b[0m\u001b[0mIndexError\u001b[0m\u001b[0;34m,\u001b[0m \u001b[0mValueError\u001b[0m\u001b[0;34m)\u001b[0m\u001b[0;34m:\u001b[0m\u001b[0;34m\u001b[0m\u001b[0;34m\u001b[0m\u001b[0m\n",
      "\u001b[0;31mRuntimeError\u001b[0m: generator raised StopIteration"
     ]
    }
   ],
   "source": [
    "d = feedparser.parse('https://fr.indeed.com/rss?q=data&l=france')\n",
    "d"
   ]
  },
  {
   "cell_type": "code",
   "execution_count": 16,
   "id": "upset-frederick",
   "metadata": {},
   "outputs": [
    {
     "name": "stdout",
     "output_type": "stream",
     "text": [
      "b'<?xml version=\\'1.0\\' encoding=\\'UTF-8\\'?><rss version=\"2.0\" xmlns:georss=\"http://www.georss.org/georss\"><channel><title>Emploi : data \\xc3\\xa0 proximit\\xc3\\xa9 de France | Indeed.com</title><link>https://fr.indeed.com/jobs?q=data&amp;l=france</link><description></description><language>fr</language><copyright>Copyright (c) 2021 Indeed, Inc All rights reserved.</copyright><lastBuildDate>Sun, 21 Feb 2021 09:59:28 GMT</lastBuildDate><image><url>https://fr.indeed.com/images/indeed_rss_fr.png</url><title>Indeed.com - un clic. tous les emplois</title><link>https://fr.indeed.com/</link></image><item><title>Gestionnaire de bases de donn\\xc3\\xa9es (H/F) - Manpower - Capdenac-Gare (12)</title><link>https://fr.indeed.com/voir-emploi?t=Gestionnaire+Bases+Donn%C3%A9es&amp;c=Manpower&amp;l=Capdenac-Gare+(12)&amp;jk=2075d2b7e21e4203&amp;rtk=1ev20f61jstht800&amp;from=rss</link><source>Manpower</source><guid isPermaLink=\"false\">281c69ffcb5adbc9bb6a04ee46f4f284</guid><pubDate>Thu, 04 Feb 2021 10:34:14 GMT</pubDate><description>Rattach\\xc3\\xa9(e) au Responsable Master Data et EDI Groupe, vous serez charg\\xc3\\xa9(e) de : Analyser et vulgariser les r\\xc3\\xa9sultats pour les restituer aux non-sp\\xc3\\xa9cialistes de\\xe2\\x80\\xa6 11,35 \\xe2\\x82\\xac par heure&lt;br>Provenant de Manpower - Thu, 04 Feb 2021 10:34:14 GMT - Afficher tout :  &lt;a href=\"https://fr.indeed.com/jobs?l=Capdenac-Gare+%2812%29\">emploi Capdenac-Gare (12)&lt;/a></description><georss:point>44.5667 2.0833</georss:point></item><item><title>Gestionnaire base de donn\\xc3\\xa9es H/F - Raynal et Roquelaure - Capdenac-Gare (12)</title><link>https://fr.indeed.com/voir-emploi?t=Gestionnaire+Base+Donn%C3%A9es&amp;c=Raynal+et+Roquelaure&amp;l=Capdenac-Gare+(12)&amp;jk=3520d94c7d7ce537&amp;rtk=1ev20f61jstht800&amp;from=rss</link><source>Indeed</source><guid isPermaLink=\"false\">4c2c44e524688f1ff834803f245d876a</guid><pubDate>Fri, 15 Jan 2021 09:55:17 GMT</pubDate><description>Analyser et vulgariser les r\\xc3\\xa9sultats pour les restituer aux non-sp\\xc3\\xa9cialistes de la data. Le Groupe COFIGEO est le n\\xc2\\xb01 fran\\xc3\\xa7ais des plats pr\\xc3\\xa9par\\xc3\\xa9s appertis\\xc3\\xa9s. 1\\xc2\\xa0721 \\xe2\\x82\\xac - 1\\xc2\\xa0920 \\xe2\\x82\\xac par mois&lt;br>Provenant de Indeed - Fri, 15 Jan 2021 09:55:17 GMT - Afficher tout :  &lt;a href=\"https://fr.indeed.com/jobs?l=Capdenac-Gare+%2812%29\">emploi Capdenac-Gare (12)&lt;/a></description><georss:point>44.5667 2.0833</georss:point></item><item><title>Assistant de Gestion de Donn\\xc3\\xa9es h/f - RAGT - Rodez (12)</title><link>https://fr.indeed.com/voir-emploi?t=Assistant+Gestion+Donn%C3%A9es&amp;c=RAGT&amp;l=Rodez+(12)&amp;jk=6230c93edb4a6699&amp;rtk=1ev20f61jstht800&amp;from=rss</link><source>RAGT</source><guid isPermaLink=\"false\">050979772d7f9fd1e16363ed4dfe9708</guid><pubDate>Mon, 07 Dec 2020 13:30:19 GMT</pubDate><description>RAGT Semences, leader en production et commercialisation de semences de grandes cultures et d&amp;#039;\\xc3\\xa9levage, recrute, dans le cadre d\\xe2\\x80\\x99une cr\\xc3\\xa9ation de poste, un\\xe2\\x80\\xa6&lt;br>Provenant de RAGT - Mon, 07 Dec 2020 13:30:19 GMT - Afficher tout :  &lt;a href=\"https://fr.indeed.com/jobs?l=Rodez+%2812%29\">emploi Rodez (12)&lt;/a></description><georss:point>44.35423 2.57767</georss:point></item><item><title>Administrateur Base de Donn\\xc3\\xa9es F/H (82) - iMSA - Montauban (82)</title><link>https://fr.indeed.com/voir-emploi?t=Administrateur+Base+Donn%C3%A9es+F+H&amp;c=iMSA&amp;l=Montauban+(82)&amp;jk=0918855ed9962610&amp;rtk=1ev20f61jstht800&amp;from=rss</link><source>IMSA</source><guid isPermaLink=\"false\">01213e03907887a0f3d188bdf5499159</guid><pubDate>Thu, 19 Nov 2020 16:15:15 GMT</pubDate><description>Big Data, Moteurs de r\\xc3\\xa8gles, technologie web... IMSA fournit des solutions informatiques cl\\xc3\\xa9s en main d\\xc3\\xa9di\\xc3\\xa9es aux m\\xc3\\xa9tiers de la sph\\xc3\\xa8re sociale.&lt;br>Provenant de IMSA - Thu, 19 Nov 2020 16:15:15 GMT - Afficher tout :  &lt;a href=\"https://fr.indeed.com/jobs?l=Montauban+%2882%29\">emploi Montauban (82)&lt;/a></description><georss:point>44.01667 1.35</georss:point></item><item><title>Chief Data Officer H/F - Groupe AVEM - Albi (81)</title><link>https://fr.indeed.com/voir-emploi?t=Chief+Data+Officer&amp;c=Groupe+AVEM&amp;l=Albi+(81)&amp;jk=c26a3fec5d6cb869&amp;rtk=1ev20f61jstht800&amp;from=rss</link><source>Groupe AVEM Mon\\xc3\\xa9tique &amp; Services</source><guid isPermaLink=\"false\">adc818c32351e70f3165de62114c79ad</guid><pubDate>Thu, 28 Jan 2021 14:54:04 GMT</pubDate><description>Notre nouveau plan strat\\xc3\\xa9gique est bas\\xc3\\xa9 sur l&amp;#039;exploitation de la data et l&amp;#039;acc\\xc3\\xa9l\\xc3\\xa9ration de la culture data dans l&amp;#039;entreprise. Cliquez sur le lien ci-dessous :&lt;br>Provenant de Groupe AVEM Mon\\xc3\\xa9tique &amp; Services - Thu, 28 Jan 2021 14:54:04 GMT - Afficher tout :  &lt;a href=\"https://fr.indeed.com/jobs?l=Albi+%2881%29\">emploi Albi (81)&lt;/a></description><georss:point>43.93333 2.15</georss:point></item><item><title>RESPONSABLE DATA CENTER (F/H) - Expectra.fr - N\\xc3\\xaemes (30)</title><link>https://fr.indeed.com/voir-emploi?t=Responsable+Data+Center&amp;c=Expectra.fr&amp;l=N%C3%AEmes+(30)&amp;jk=114ca302e8f70e19&amp;rtk=1ev20f61jstht800&amp;from=rss</link><source>Expectra.fr</source><guid isPermaLink=\"false\">8a5047917d5af1b0e485c3f4d90ba1bb</guid><pubDate>Fri, 19 Feb 2021 23:13:50 GMT</pubDate><description>Nous recherchons pour le compte de notre client un RESPONSABLE DATA CENTER (F/H). Expectra, leader en France de l&amp;#039;int\\xc3\\xa9rim sp\\xc3\\xa9cialis\\xc3\\xa9 et du recrutement en CDI de\\xe2\\x80\\xa6 50\\xc2\\xa0000 \\xe2\\x82\\xac par an&lt;br>Provenant de Expectra.fr - Fri, 19 Feb 2021 23:13:50 GMT - Afficher tout :  &lt;a href=\"https://fr.indeed.com/jobs?l=N%C3%AEmes+%2830%29\">emploi N\\xc3\\xaemes (30)&lt;/a></description><georss:point>43.83333 4.35</georss:point></item><item><title>Data manager-Donn\\xc3\\xa9es pr\\xc3\\xa9cliniques et cliniques pr\\xc3\\xa9coces H/F - INSTITUT DE RECHERCHE PIERRE FABRE SAS - Langlade (30)</title><link>https://fr.indeed.com/voir-emploi?t=Data+Manager+Donn%C3%A9es+Pr%C3%A9cliniques+Cliniques+Pr%C3%A9coces&amp;c=INSTITUT+DE+RECHERCHE+PIERRE+FABRE&amp;l=Langlade+(30)&amp;jk=5e1f310998c4367c&amp;rtk=1ev20f61jstht800&amp;from=rss</link><source>Pierre Fabre</source><guid isPermaLink=\"false\">48e3732ae4684854b16aad3dd4973401</guid><pubDate>Fri, 23 Oct 2020 13:42:39 GMT</pubDate><description>Data Manager - Donn\\xc3\\xa9es pr\\xc3\\xa9-cliniques et cliniques pr\\xc3\\xa9coces H/F. Veillez \\xc3\\xa0 l\\xe2\\x80\\x99avancement des diff\\xc3\\xa9rentes \\xc3\\xa9tapes de data management.&lt;br>Provenant de Pierre Fabre - Fri, 23 Oct 2020 13:42:39 GMT - Afficher tout :  &lt;a href=\"https://fr.indeed.com/jobs?l=Langlade+%2830%29\">emploi Langlade (30)&lt;/a></description><georss:point>43.8 4.25</georss:point></item><item><title>Administrateur et d\\xc3\\xa9veloppeur de base de donn\\xc3\\xa9es - Val Software - Blagnac (31)</title><link>https://fr.indeed.com/voir-emploi?t=Administrateur+D%C3%A9veloppeur+Base+Donn%C3%A9es&amp;c=Val+Software&amp;l=Blagnac+(31)&amp;jk=da09179a727130e2&amp;rtk=1ev20f61jstht800&amp;from=rss</link><source>Val Software</source><guid isPermaLink=\"false\">e7d9c5293c54c8b0738d0f4b74e9bd9f</guid><pubDate>Thu, 04 Feb 2021 19:59:47 GMT</pubDate><description>VAL Software est l\\xe2\\x80\\x99\\xc3\\xa9diteur de logiciels de gestion en SaaS pour les acteurs de la formation professionnelle. Bas\\xc3\\xa9s en France \\xc3\\xa0 Toulouse (si\\xc3\\xa8ge social) et Paris,\\xe2\\x80\\xa6&lt;br>Provenant de Val Software - Thu, 04 Feb 2021 19:59:47 GMT - Afficher tout :  &lt;a href=\"https://fr.indeed.com/jobs?l=Blagnac+%2831%29\">emploi Blagnac (31)&lt;/a></description><georss:point>43.63333 1.4</georss:point></item><item><title>Geo Big Data - D\\xc3\\xa9veloppeur(se) - Gisa\\xc3\\xafa - Blagnac (31)</title><link>https://fr.indeed.com/voir-emploi?t=Geo+Big+Data&amp;c=Gisa%C3%AFa&amp;l=Blagnac+(31)&amp;jk=a0ee1b46846e9ea3&amp;rtk=1ev20f61jstht800&amp;from=rss</link><source>Gisa\\xc3\\xafa</source><guid isPermaLink=\"false\">92982e702e380876db0ea683825c0a22</guid><pubDate>Wed, 02 Jan 2019 07:59:51 GMT</pubDate><description>Le Big Data vous attire ? DATA - MongoDB, Cassandra, ElasticSearch, HDFS. Gisa\\xc3\\xafa est une jeune soci\\xc3\\xa9t\\xc3\\xa9 innovante d\\xe2\\x80\\x99applications cartographiques (donn\\xc3\\xa9es\\xe2\\x80\\xa6&lt;br>Provenant de Gisa\\xc3\\xafa - Wed, 02 Jan 2019 07:59:51 GMT - Afficher tout :  &lt;a href=\"https://fr.indeed.com/jobs?l=Blagnac+%2831%29\">emploi Blagnac (31)&lt;/a></description><georss:point>43.63333 1.4</georss:point></item><item><title>Team Leader Data Intelligence H/F - ALTRAN SUD OUEST - Blagnac (31)</title><link>https://fr.indeed.com/voir-emploi?t=Team+Leader+Data+Intelligence&amp;c=ALTRAN+SUD+OUEST&amp;l=Blagnac+(31)&amp;jk=e7b9bf0b4c88c17e&amp;rtk=1ev20f61jstht800&amp;from=rss</link><source>Indeed</source><guid isPermaLink=\"false\">bda6ee6f121ef6dd9d7f3bc7ab9e4130</guid><pubDate>Fri, 22 Jan 2021 09:50:09 GMT</pubDate><description>\\xef\\x82\\xb7 Connaissances techniques dans le domaine de la Data Intelligence et de la Data Visualisation Vos Atouts pour r\\xc3\\xa9ussir / votre Profil. 30\\xc2\\xa0000 \\xe2\\x82\\xac - 50\\xc2\\xa0000 \\xe2\\x82\\xac par an&lt;br>Provenant de Indeed - Fri, 22 Jan 2021 09:50:09 GMT - Afficher tout :  &lt;a href=\"https://fr.indeed.com/jobs?l=Blagnac+%2831%29\">emploi Blagnac (31)&lt;/a></description><georss:point>43.6333 1.4</georss:point></item><item><title>Data Scientist \\xe2\\x80\\x93 Architecte offre H/F - ALTRAN SUD OUEST - Blagnac (31)</title><link>https://fr.indeed.com/voir-emploi?t=Data+Scientist+Architecte+Offre&amp;c=ALTRAN+SUD+OUEST&amp;l=Blagnac+(31)&amp;jk=657f659c9dabf173&amp;rtk=1ev20f61jstht800&amp;from=rss</link><source>Indeed</source><guid isPermaLink=\"false\">412e431924d58c37af0524273949c3fc</guid><pubDate>Mon, 07 Dec 2020 08:43:22 GMT</pubDate><description>Data Engineering, Data Science, Data visualisation. Data scientist \\xe2\\x80\\x93 architecte offre h/f ou similaire: Analyser/scanner le domaine de la Data afin de d\\xc3\\xa9crypter\\xe2\\x80\\xa6 30\\xc2\\xa0000 \\xe2\\x82\\xac - 60\\xc2\\xa0000 \\xe2\\x82\\xac par an&lt;br>Provenant de Indeed - Mon, 07 Dec 2020 08:43:22 GMT - Afficher tout :  &lt;a href=\"https://fr.indeed.com/jobs?l=Blagnac+%2831%29\">emploi Blagnac (31)&lt;/a></description><georss:point>43.6333 1.4</georss:point></item><item><title>Ing\\xc3\\xa9nieur syst\\xc3\\xa8me expert (Production Administrateur de base de donn\\xc3\\xa9es - DBA) H/F - Groupama Supports et Services - Castelnau-le-Lez (34)</title><link>https://fr.indeed.com/voir-emploi?t=Ing%C3%A9nieur+Syst%C3%A8me+Expert&amp;c=Groupama+Supports+et+Services&amp;l=Castelnau-le-Lez+(34)&amp;jk=59cf74a50082370d&amp;rtk=1ev20f61jstht800&amp;from=rss</link><source>Groupama</source><guid isPermaLink=\"false\">6c1311da4ad52511c52a02c0feaa293b</guid><pubDate>Fri, 13 Nov 2020 18:02:06 GMT</pubDate><description>Il participera aux projets comme apporteur de solutions sur les technologies de la Data. L&amp;#039;entit\\xc3\\xa9 \\xc2\\xab Technologie &amp;amp; Infrastructures \\xc2\\xbb au sein de la direction des\\xe2\\x80\\xa6&lt;br>Provenant de Groupama - Fri, 13 Nov 2020 18:02:06 GMT - Afficher tout :  &lt;a href=\"https://fr.indeed.com/jobs?l=Castelnau-le-Lez+%2834%29\">emploi Castelnau-le-Lez (34)&lt;/a></description><georss:point>43.63333 3.9</georss:point></item><item><title>Analyste de donn\\xc3\\xa9es (H/F) - CONSEIL DEPARTEMENTAL DE L\\'HERAULT - Montpellier (34)</title><link>https://fr.indeed.com/voir-emploi?t=Analyste+Donn%C3%A9es&amp;c=CONSEIL+DEPARTEMENTAL+DE+L%27HERAULT&amp;l=Montpellier+(34)&amp;jk=b15a76a725e349cf&amp;rtk=1ev20f61jstht800&amp;from=rss</link><source>CONSEIL DEPARTEMENTAL DE L\\'HERAULT</source><guid isPermaLink=\"false\">2b3f3e14c6ff47afc48bed728e4c607f</guid><pubDate>Wed, 03 Feb 2021 11:34:35 GMT</pubDate><description>Travaille en articulation \\xc3\\xa9troite avec les autres gestionnaires de donn\\xc3\\xa9es de la DGA RH et de l\\xe2\\x80\\x99institution, travaille sur l\\xe2\\x80\\x99Open Data, les bases de donn\\xc3\\xa9es\\xe2\\x80\\xa6&lt;br>Provenant de CONSEIL DEPARTEMENTAL DE L\\'HERAULT - Wed, 03 Feb 2021 11:34:35 GMT - Afficher tout :  &lt;a href=\"https://fr.indeed.com/jobs?l=Montpellier+%2834%29\">emploi Montpellier (34)&lt;/a></description><georss:point>43.6 3.88333</georss:point></item><item><title>ARCHITECTE EXPERT BASE DE DONN\\xc3\\x89ES (F/H) - Expectra.fr - Colomiers (31)</title><link>https://fr.indeed.com/voir-emploi?t=Architecte+Expert+Base+Donn%C3%A9es&amp;c=Expectra.fr&amp;l=Colomiers+(31)&amp;jk=da20fcefa214c1a3&amp;rtk=1ev20f61jstht800&amp;from=rss</link><source>Expectra.fr</source><guid isPermaLink=\"false\">4436bc2ffe13eb5fd417b25fa8759a05</guid><pubDate>Tue, 26 Jan 2021 23:19:19 GMT</pubDate><description>Expectra, leader en France de l&amp;#039;int\\xc3\\xa9rim sp\\xc3\\xa9cialis\\xc3\\xa9 et du recrutement en CDI de cadres et agents de ma\\xc3\\xaetrise. Dans le cadre de cette transformation, vous prenez\\xe2\\x80\\xa6&lt;br>Provenant de Expectra.fr - Tue, 26 Jan 2021 23:19:19 GMT - Afficher tout :  &lt;a href=\"https://fr.indeed.com/jobs?l=Colomiers+%2831%29\">emploi Colomiers (31)&lt;/a></description><georss:point>43.61667 1.35</georss:point></item><item><title>Airbus OneWeb Satellites - Big Data Software Developer (m/f) - Airbus - Toulouse (31)</title><link>https://fr.indeed.com/voir-emploi?t=Oneweb+Satellites&amp;c=Airbus&amp;l=Toulouse+(31)&amp;jk=f7cf893232467d73&amp;rtk=1ev20f61jstht800&amp;from=rss</link><source>Airbus</source><guid isPermaLink=\"false\">ba7bb4c0705a1c6be10348e025ba0f04</guid><pubDate>Thu, 17 Dec 2020 21:10:20 GMT</pubDate><description>Data processing / Alerting capability development. Master data flow using Hadoop technologies: &amp;gt;5 years\\xe2\\x80\\x99 experience in Software engineering for big Data\\xe2\\x80\\xa6&lt;br>Provenant de Airbus - Thu, 17 Dec 2020 21:10:20 GMT - Afficher tout :  &lt;a href=\"https://fr.indeed.com/jobs?l=Toulouse+%2831%29\">emploi Toulouse (31)&lt;/a></description><georss:point>43.60426 1.44367</georss:point></item><item><title>Airbus UpNext DragonFly Demonstrator - Data Fusion Specialist (M/F) - Airbus - Toulouse (31)</title><link>https://fr.indeed.com/voir-emploi?t=Upnext+Dragonfly+Demonstrator&amp;c=Airbus&amp;l=Toulouse+(31)&amp;jk=6a9f2b39f23322a2&amp;rtk=1ev20f61jstht800&amp;from=rss</link><source>Airbus</source><guid isPermaLink=\"false\">6e46d960c7aff5256497e4a2aab2c71b</guid><pubDate>Tue, 15 Dec 2020 21:09:53 GMT</pubDate><description>Digital signal processing, multi-sensor data fusion, stochastics and tracking (Kalman/Particle filters, grid-based fusion algorithms).&lt;br>Provenant de Airbus - Tue, 15 Dec 2020 21:09:53 GMT - Afficher tout :  &lt;a href=\"https://fr.indeed.com/jobs?l=Toulouse+%2831%29\">emploi Toulouse (31)&lt;/a></description><georss:point>43.60426 1.44367</georss:point></item><item><title>Lead Data Scientist \\xc3\\xa0 Toulouse - Aqsone - Toulouse (31)</title><link>https://fr.indeed.com/voir-emploi?t=Lead+Data+Scientist&amp;c=Aqsone&amp;l=Toulouse+(31)&amp;jk=71d820c25527ee70&amp;rtk=1ev20f61jstht800&amp;from=rss</link><source>Indeed</source><guid isPermaLink=\"false\">217367f998afba10a7d9e7c7aea19065</guid><pubDate>Thu, 28 Jan 2021 16:06:30 GMT</pubDate><description>Vous voulez rejoindre notre \\xc3\\xa9quipe de Data Enthusiasts ? Vous \\xc3\\xaates cr\\xc3\\xa9atif.ve et passionn\\xc3\\xa9.e par la Data Science ? Des perspectives d\\xe2\\x80\\x99\\xc3\\xa9volution tr\\xc3\\xa8s rapide. 45\\xc2\\xa0000 \\xe2\\x82\\xac par an&lt;br>Provenant de Indeed - Thu, 28 Jan 2021 16:06:30 GMT - Afficher tout :  &lt;a href=\"https://fr.indeed.com/jobs?l=Toulouse+%2831%29\">emploi Toulouse (31)&lt;/a></description><georss:point>43.6043 1.4437</georss:point></item><item><title>Data Scientist \\xc3\\xa0 Toulouse - Aqsone - Toulouse (31)</title><link>https://fr.indeed.com/voir-emploi?t=Data+Scientist&amp;c=Aqsone&amp;l=Toulouse+(31)&amp;jk=6fc3a8e94ed21dcc&amp;rtk=1ev20f61jstht800&amp;from=rss</link><source>Indeed</source><guid isPermaLink=\"false\">8f12ee58d680462ba6c325d583ca4506</guid><pubDate>Thu, 28 Jan 2021 16:00:04 GMT</pubDate><description>Vous voulez rejoindre notre \\xc3\\xa9quipe de Data Enthusiasts ? Vous \\xc3\\xaates cr\\xc3\\xa9atif.ve et passionn\\xc3\\xa9.e par la Data Science ? Des perspectives d\\xe2\\x80\\x99\\xc3\\xa9volution tr\\xc3\\xa8s rapide. 36\\xc2\\xa0000 \\xe2\\x82\\xac par an&lt;br>Provenant de Indeed - Thu, 28 Jan 2021 16:00:04 GMT - Afficher tout :  &lt;a href=\"https://fr.indeed.com/jobs?l=Toulouse+%2831%29\">emploi Toulouse (31)&lt;/a></description><georss:point>43.6043 1.4437</georss:point></item><item><title>Data Analyst H/F - ALTEN - Toulouse (31)</title><link>https://fr.indeed.com/voir-emploi?t=Data+Analyst&amp;c=ALTEN&amp;l=Toulouse+(31)&amp;jk=d2853a34b2b40e9f&amp;rtk=1ev20f61jstht800&amp;from=rss</link><source>Indeed</source><guid isPermaLink=\"false\">805be7c9dba9ae32a7dc37a986d9592d</guid><pubDate>Mon, 25 Jan 2021 16:44:19 GMT</pubDate><description>Data analyst h/f ou similaire: Alten SO recrute un(e) Data Analyst sur la r\\xc3\\xa9gion Toulousaine. De formation sup\\xc3\\xa9rieure (Ecole de Commerce ou universit\\xc3\\xa9) en\\xe2\\x80\\xa6 25\\xc2\\xa0395 \\xe2\\x82\\xac - 48\\xc2\\xa0201 \\xe2\\x82\\xac par an&lt;br>Provenant de Indeed - Mon, 25 Jan 2021 16:44:19 GMT - Afficher tout :  &lt;a href=\"https://fr.indeed.com/jobs?l=Toulouse+%2831%29\">emploi Toulouse (31)&lt;/a></description><georss:point>43.6043 1.4437</georss:point></item><item><title>Consultant Microsoft Azure Data F/H - VISEO - Toulouse (31)</title><link>https://fr.indeed.com/voir-emploi?t=Consultant+Microsoft+Azure+Data+F+H&amp;c=VISEO&amp;l=Toulouse+(31)&amp;jk=e28a1360e6acc7b9&amp;rtk=1ev20f61jstht800&amp;from=rss</link><source>Viseo</source><guid isPermaLink=\"false\">db1ae6c95136e3c42723933dcce80fa1</guid><pubDate>Fri, 19 Feb 2021 17:30:04 GMT</pubDate><description>Les Consultants VISEO DATA partagent ces valeurs : Au sein de la BU DATA &amp;amp; ANALYTICS, et en tant que consultant(e) Microsoft Azure Data, vous serez amen\\xc3\\xa9(e) \\xc3\\xa0\\xe2\\x80\\xa6&lt;br>Provenant de Viseo - Fri, 19 Feb 2021 17:30:04 GMT - Afficher tout :  &lt;a href=\"https://fr.indeed.com/jobs?l=Toulouse+%2831%29\">emploi Toulouse (31)&lt;/a></description><georss:point>43.6043 1.4437</georss:point></item></channel></rss>' xml.parser\n"
     ]
    }
   ],
   "source": [
    "from bs4 import BeautifulSoup\n",
    "u = \"https://fr.indeed.com/rss?q=data&l=france\"\n",
    "r = requests.get(u)\n",
    "print(r.content, \"xml.parser\")\n"
   ]
  },
  {
   "cell_type": "code",
   "execution_count": 36,
   "id": "bridal-relative",
   "metadata": {},
   "outputs": [
    {
     "data": {
      "text/html": [
       "<div>\n",
       "<style scoped>\n",
       "    .dataframe tbody tr th:only-of-type {\n",
       "        vertical-align: middle;\n",
       "    }\n",
       "\n",
       "    .dataframe tbody tr th {\n",
       "        vertical-align: top;\n",
       "    }\n",
       "\n",
       "    .dataframe thead th {\n",
       "        text-align: right;\n",
       "    }\n",
       "</style>\n",
       "<table border=\"1\" class=\"dataframe\">\n",
       "  <thead>\n",
       "    <tr style=\"text-align: right;\">\n",
       "      <th></th>\n",
       "      <th>0</th>\n",
       "    </tr>\n",
       "  </thead>\n",
       "  <tbody>\n",
       "    <tr>\n",
       "      <th>0</th>\n",
       "      <td>Data Analyst</td>\n",
       "    </tr>\n",
       "    <tr>\n",
       "      <th>1</th>\n",
       "      <td>Data Scientist</td>\n",
       "    </tr>\n",
       "    <tr>\n",
       "      <th>2</th>\n",
       "      <td>Data Engineer</td>\n",
       "    </tr>\n",
       "  </tbody>\n",
       "</table>\n",
       "</div>"
      ],
      "text/plain": [
       "                0\n",
       "0    Data Analyst\n",
       "1  Data Scientist\n",
       "2   Data Engineer"
      ]
     },
     "execution_count": 36,
     "metadata": {},
     "output_type": "execute_result"
    }
   ],
   "source": [
    "df = pd.DataFrame(find_job[\"categorie\"])\n",
    "df"
   ]
  },
  {
   "cell_type": "code",
   "execution_count": null,
   "id": "worldwide-infrared",
   "metadata": {},
   "outputs": [],
   "source": []
  },
  {
   "cell_type": "code",
   "execution_count": 28,
   "id": "gorgeous-reception",
   "metadata": {},
   "outputs": [
    {
     "ename": "KeyError",
     "evalue": "'categorie'",
     "output_type": "error",
     "traceback": [
      "\u001b[0;31m---------------------------------------------------------------------------\u001b[0m",
      "\u001b[0;31mKeyError\u001b[0m                                  Traceback (most recent call last)",
      "\u001b[0;32m<ipython-input-28-fe3b6d3bb440>\u001b[0m in \u001b[0;36m<module>\u001b[0;34m\u001b[0m\n\u001b[0;32m----> 1\u001b[0;31m \u001b[0mdf\u001b[0m \u001b[0;34m=\u001b[0m \u001b[0mpd\u001b[0m\u001b[0;34m.\u001b[0m\u001b[0mDataFrame\u001b[0m\u001b[0;34m(\u001b[0m\u001b[0mind_data\u001b[0m\u001b[0;34m[\u001b[0m\u001b[0;34m\"categorie\"\u001b[0m\u001b[0;34m]\u001b[0m\u001b[0;34m)\u001b[0m\u001b[0;34m\u001b[0m\u001b[0;34m\u001b[0m\u001b[0m\n\u001b[0m\u001b[1;32m      2\u001b[0m \u001b[0mdf\u001b[0m\u001b[0;34m\u001b[0m\u001b[0;34m\u001b[0m\u001b[0m\n",
      "\u001b[0;31mKeyError\u001b[0m: 'categorie'"
     ]
    }
   ],
   "source": [
    "df = pd.DataFrame(ind_data[\"categorie\"])\n",
    "df"
   ]
  },
  {
   "cell_type": "code",
   "execution_count": 9,
   "id": "regular-mandate",
   "metadata": {
    "scrolled": true
   },
   "outputs": [
    {
     "name": "stdout",
     "output_type": "stream",
     "text": [
      "dict_keys(['title', 'title_detail', 'links', 'link', 'subtitle', 'subtitle_detail', 'updated', 'updated_parsed', 'language', 'sy_updateperiod', 'sy_updatefrequency'])\n",
      "Feed Title: CERT-FR\n",
      "Feed Subtitle: Centre gouvernemental de veille, d'alerte et de réponse aux attaques informatiques\n",
      "Feed Link: https://www.cert.ssi.gouv.fr \n",
      "\n",
      "dict_keys(['title', 'title_detail', 'links', 'link', 'published', 'published_parsed', 'id', 'guidislink', 'summary', 'summary_detail'])\n",
      "CERTFR-2021-ALE-002 : [MàJ] Vulnérabilité dans Google Chrome et Microsoft Edge (05 février 2021) --> https://www.cert.ssi.gouv.fr/alerte/CERTFR-2021-ALE-002/\n",
      "CERTFR-2021-ALE-001 : Vulnérabilité dans SonicWall SMA100 (02 février 2021) --> https://www.cert.ssi.gouv.fr/alerte/CERTFR-2021-ALE-001/\n",
      "CERTFR-2020-ALE-020 : [MàJ] Vulnérabilité dans Microsoft Netlogon (15 septembre 2020) --> https://www.cert.ssi.gouv.fr/alerte/CERTFR-2020-ALE-020/\n",
      "CERTFR-2020-ALE-026 : [MaJ] Présence de code malveillant dans SolarWinds Orion (14 décembre 2020) --> https://www.cert.ssi.gouv.fr/alerte/CERTFR-2020-ALE-026/\n",
      "CERTFR-2020-ALE-021 : Vulnérabilité dans Samba (18 septembre 2020) --> https://www.cert.ssi.gouv.fr/alerte/CERTFR-2020-ALE-021/\n",
      "CERTFR-2020-ALE-019 : Recrudescence d’activité Emotet en France (07 septembre 2020) --> https://www.cert.ssi.gouv.fr/alerte/CERTFR-2020-ALE-019/\n",
      "CERTFR-2020-ALE-025 : Vulnérabilité dans Fortinet FortiOS SSL-VPN (27 novembre 2020) --> https://www.cert.ssi.gouv.fr/alerte/CERTFR-2020-ALE-025/\n",
      "CERTFR-2020-ALE-024 : [MaJ] Vulnérabilité dans les produits VMware (24 novembre 2020) --> https://www.cert.ssi.gouv.fr/alerte/CERTFR-2020-ALE-024/\n",
      "CERTFR-2020-ALE-022 : [MàJ] Vulnérabilité dans Oracle Weblogic (30 octobre 2020) --> https://www.cert.ssi.gouv.fr/alerte/CERTFR-2020-ALE-022/\n",
      "CERTFR-2020-ALE-23 : Multiples vulnérabilités dans Google  Chrome (12 novembre 2020) --> https://www.cert.ssi.gouv.fr/alerte/CERTFR-2020-ALE-23/\n",
      "CERTFR-2020-ALE-018 : Vulnérabilité dans Cisco ASA et FTD (28 juillet 2020) --> https://www.cert.ssi.gouv.fr/alerte/CERTFR-2020-ALE-018/\n",
      "CERTFR-2020-ALE-16 : Vulnérabilité dans Microsoft Domain Name System (DNS) Server (15 juillet 2020) --> https://www.cert.ssi.gouv.fr/alerte/CERTFR-2020-ALE-16/\n",
      "CERTFR-2020-ALE-17 : Multiples vulnérabilités dans SAP Netweaver AS JAVA (15 juillet 2020) --> https://www.cert.ssi.gouv.fr/alerte/CERTFR-2020-ALE-17/\n",
      "CERTFR-2020-ALE-015 : Vulnérabilité dans F5 BIG-IP (05 juillet 2020) --> https://www.cert.ssi.gouv.fr/alerte/CERTFR-2020-ALE-015/\n",
      "CERTFR-2020-ALE-014 : Vulnérabilité dans Palo Alto Networks PAN-OS (03 juillet 2020) --> https://www.cert.ssi.gouv.fr/alerte/CERTFR-2020-ALE-014/\n",
      "CERTFR-2020-ALE-008 : Vulnérabilité dans l’implémentation du protocole SMB par Microsoft (11 mars 2020) --> https://www.cert.ssi.gouv.fr/alerte/CERTFR-2020-ALE-008/\n",
      "CERTFR-2020-ALE-002 : Vulnérabilité dans les produits Citrix ADC et Citrix Gateway (09 janvier 2020) --> https://www.cert.ssi.gouv.fr/alerte/CERTFR-2020-ALE-002/\n",
      "CERTFR-2020-ALE-012 : Multiples vulnérabilités dans  SaltStack (04 mai 2020) --> https://www.cert.ssi.gouv.fr/alerte/CERTFR-2020-ALE-012/\n",
      "CERTFR-2020-ALE-013 : Multiples vulnérabilités dans Microsoft Windows (01 juillet 2020) --> https://www.cert.ssi.gouv.fr/alerte/CERTFR-2020-ALE-013/\n",
      "CERTFR-2020-ALE-011 : Multiples vulnérabilités dans les produits Microsoft qui utilisent la bibliothèque Autodesk FBX (22 avril 2020) --> https://www.cert.ssi.gouv.fr/alerte/CERTFR-2020-ALE-011/\n",
      "CERTFR-2020-ALE-009 : Multiples vulnérabilités dans Microsoft Windows (24 mars 2020) --> https://www.cert.ssi.gouv.fr/alerte/CERTFR-2020-ALE-009/\n",
      "CERTFR-2020-ALE-001 : Multiples vulnérabilités dans les produits de Pulse Secure (09 janvier 2020) --> https://www.cert.ssi.gouv.fr/alerte/CERTFR-2020-ALE-001/\n",
      "CERTFR-2020-ALE-007 : Vulnérabilité dans Microsoft Exchange Server (27 février 2020) --> https://www.cert.ssi.gouv.fr/alerte/CERTFR-2020-ALE-007/\n",
      "CERTFR-2020-ALE-010 : Multiples vulnérabilités dans Mozilla Firefox (06 avril 2020) --> https://www.cert.ssi.gouv.fr/alerte/CERTFR-2020-ALE-010/\n",
      "CERTFR-2020-ALE-005 : Multiples vulnérabilités dans le serveur de passerelle RDP de Windows (14 janvier 2020) --> https://www.cert.ssi.gouv.fr/alerte/CERTFR-2020-ALE-005/\n",
      "CERTFR-2020-ALE-006 : Vulnérabilité dans Microsoft Internet Explorer (20 janvier 2020) --> https://www.cert.ssi.gouv.fr/alerte/CERTFR-2020-ALE-006/\n",
      "CERTFR-2020-ALE-003 : Vulnérabilité dans les produits Mozilla (09 janvier 2020) --> https://www.cert.ssi.gouv.fr/alerte/CERTFR-2020-ALE-003/\n",
      "CERTFR-2020-ALE-004 : Vulnérabilité dans Microsoft Windows (14 janvier 2020) --> https://www.cert.ssi.gouv.fr/alerte/CERTFR-2020-ALE-004/\n",
      "CERTFR-2019-ALE-015 : Multiples vulnérabilités dans Google Chrome (04 novembre 2019) --> https://www.cert.ssi.gouv.fr/alerte/CERTFR-2019-ALE-015/\n",
      "CERTFR-2019-ALE-014 : Vulnérabilité dans PHP (29 octobre 2019) --> https://www.cert.ssi.gouv.fr/alerte/CERTFR-2019-ALE-014/\n",
      "CERTFR-2019-ALE-012 : Multiples vulnérabilités dans Microsoft Remote Desktop Services (14 août 2019) --> https://www.cert.ssi.gouv.fr/alerte/CERTFR-2019-ALE-012/\n",
      "CERTFR-2019-ALE-006 : Vulnérabilité dans Microsoft Remote Desktop Services (15 mai 2019) --> https://www.cert.ssi.gouv.fr/alerte/CERTFR-2019-ALE-006/\n",
      "CERTFR-2019-ALE-013 : Vulnérabilité dans Microsoft Internet Explorer (24 septembre 2019) --> https://www.cert.ssi.gouv.fr/alerte/CERTFR-2019-ALE-013/\n",
      "CERTFR-2019-ALE-008 : Vulnérabilité dans Microsoft SharePoint Server (29 mai 2019) --> https://www.cert.ssi.gouv.fr/alerte/CERTFR-2019-ALE-008/\n",
      "CERTFR-2019-ALE-009 : Vulnérabilité dans Exim (11 juin 2019) --> https://www.cert.ssi.gouv.fr/alerte/CERTFR-2019-ALE-009/\n",
      "CERTFR-2019-ALE-011 : Vulnérabilité dans Oracle WebLogic (20 juin 2019) --> https://www.cert.ssi.gouv.fr/alerte/CERTFR-2019-ALE-011/\n",
      "CERTFR-2019-ALE-010 : Vulnérabilité dans Mozilla Firefox (20 juin 2019) --> https://www.cert.ssi.gouv.fr/alerte/CERTFR-2019-ALE-010/\n",
      "CERTFR-2019-ALE-005 : Vulnérabilité dans Oracle WebLogic (26 avril 2019) --> https://www.cert.ssi.gouv.fr/alerte/CERTFR-2019-ALE-005/\n",
      "CERTFR-2019-ALE-003 : Campagnes de rançongiciels (31 janvier 2019) --> https://www.cert.ssi.gouv.fr/alerte/CERTFR-2019-ALE-003/\n",
      "CERTFR-2019-ALE-007 : Vulnérabilité dans le serveur DHCP de Windows (15 mai 2019) --> https://www.cert.ssi.gouv.fr/alerte/CERTFR-2019-ALE-007/\n",
      "Alert: CERTFR-2021-ALE-002 : [MàJ] Vulnérabilité dans Google Chrome et Microsoft Edge (05 février 2021) \n",
      "Link: https://www.cert.ssi.gouv.fr/alerte/CERTFR-2021-ALE-002/\n"
     ]
    }
   ],
   "source": [
    "\n",
    "import feedparser\n",
    "\n",
    "# Création d'une instance\n",
    "news_feed = feedparser.parse('https://www.cert.ssi.gouv.fr/alerte/feed/')\n",
    "\n",
    "# Propriétés du flux\n",
    "print(news_feed.feed.keys())\n",
    "\n",
    "# Titre du flux\n",
    "print(\"Feed Title:\", news_feed.feed.title) \n",
    "\n",
    "# Sous-titre du flux\n",
    "print(\"Feed Subtitle:\", news_feed.feed.subtitle)\n",
    "\n",
    "# Lien du flux\n",
    "print(\"Feed Link:\", news_feed.feed.link, \"\\n\")\n",
    "\n",
    "# Propriétés de chaque item du flux\n",
    "print(news_feed.entries[0].keys())\n",
    "\n",
    "for entry in news_feed.entries:\n",
    "    print(f\"{entry.title} --> {entry.link}\")\n",
    "    \n",
    "# Récupération du deernier feed (dernier bulletin CERT-FR)\n",
    "for i in range(0, len(news_feed.entries)):\n",
    "    if i == (len(news_feed.entries)-1):\n",
    "        print(\"Alert: {} \\nLink: {}\".format(news_feed.entries[0]['title'], news_feed.entries[0]['id']))"
   ]
  },
  {
   "cell_type": "code",
   "execution_count": 79,
   "id": "directed-computer",
   "metadata": {
    "collapsed": true
   },
   "outputs": [
    {
     "name": "stdout",
     "output_type": "stream",
     "text": [
      "date_string = 21 June, 2018\n",
      "type of date_string = <class 'str'> \n",
      "\n",
      "2018-06-21 00:00:00\n",
      "type of date_object = <class 'datetime.datetime'>\n"
     ]
    }
   ],
   "source": [
    "\n",
    "from datetime import datetime\n",
    "\n",
    "date_string = \"21 June, 2018\"\n",
    "\n",
    "print(\"date_string =\", date_string)\n",
    "print(\"type of date_string =\", type(date_string),\"\\n\")\n",
    "\n",
    "date_object = datetime.strptime(date_string, \"%d %B, %Y\")\n",
    "\n",
    "print( date_object)\n",
    "print(\"type of date_object =\", type(date_object))"
   ]
  },
  {
   "cell_type": "code",
   "execution_count": null,
   "id": "external-delicious",
   "metadata": {},
   "outputs": [],
   "source": []
  }
 ],
 "metadata": {
  "kernelspec": {
   "display_name": "Python 3",
   "language": "python",
   "name": "python3"
  },
  "language_info": {
   "codemirror_mode": {
    "name": "ipython",
    "version": 3
   },
   "file_extension": ".py",
   "mimetype": "text/x-python",
   "name": "python",
   "nbconvert_exporter": "python",
   "pygments_lexer": "ipython3",
   "version": "3.7.3"
  }
 },
 "nbformat": 4,
 "nbformat_minor": 5
}
